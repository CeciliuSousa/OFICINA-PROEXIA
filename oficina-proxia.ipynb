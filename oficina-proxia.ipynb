{
 "cells": [
  {
   "cell_type": "code",
   "execution_count": 1,
   "metadata": {},
   "outputs": [
    {
     "name": "stdout",
     "output_type": "stream",
     "text": [
      "O volume do prisma é: 5760 cm³\n"
     ]
    }
   ],
   "source": [
    "# Questão 1: Volume de um Prisma Reto com Base Quadrada\n",
    "\n",
    "# Dimensões do prisma\n",
    "lado_base = 12\n",
    "altura = 40\n",
    "\n",
    "# Cálculo da área da base e do volume\n",
    "area_base = lado_base ** 2\n",
    "volume = area_base * altura\n",
    "\n",
    "print(\"O volume do prisma é:\", volume, \"cm³\")"
   ]
  },
  {
   "cell_type": "code",
   "execution_count": 2,
   "metadata": {},
   "outputs": [
    {
     "name": "stdout",
     "output_type": "stream",
     "text": [
      "O volume do prisma hexagonal é: 259.5 cm³\n"
     ]
    }
   ],
   "source": [
    "# Questão 2: Volume de um Prisma Reto com Base Hexagonal\n",
    "\n",
    "# Dimensões do prisma\n",
    "lado_base = 2\n",
    "apotema = 1.73\n",
    "altura = 25\n",
    "\n",
    "# Cálculo da área da base e do volume\n",
    "area_base = (6 * lado_base * apotema) / 2\n",
    "volume = area_base * altura\n",
    "\n",
    "print(\"O volume do prisma hexagonal é:\", volume, \"cm³\")"
   ]
  },
  {
   "cell_type": "code",
   "execution_count": 3,
   "metadata": {},
   "outputs": [
    {
     "name": "stdout",
     "output_type": "stream",
     "text": [
      "O volume da calha é: 173205.0807568877 cm³\n"
     ]
    }
   ],
   "source": [
    "# Questão 3: Volume de uma Calha com Base Trapezoidal\n",
    "\n",
    "import math\n",
    "\n",
    "# Dimensões da calha\n",
    "base_maior = 40\n",
    "base_menor = 40\n",
    "altura_trapezio = 5 * math.sqrt(3)\n",
    "altura_calha = 500\n",
    "\n",
    "area_base = (base_maior + base_menor) * altura_trapezio / 2\n",
    "volume = area_base * altura_calha\n",
    "\n",
    "print(\"O volume da calha é:\", volume, \"cm³\")"
   ]
  },
  {
   "cell_type": "code",
   "execution_count": 5,
   "metadata": {},
   "outputs": [
    {
     "name": "stdout",
     "output_type": "stream",
     "text": [
      "A medida da aresta da base da piscina é: 25.0 m\n"
     ]
    }
   ],
   "source": [
    "# Questão 4: Cálculo da Aresta de uma Piscina Cúbica\n",
    "\n",
    "# Volume e altura da piscina\n",
    "volume = 3125\n",
    "altura = 5\n",
    "\n",
    "# Cálculo da aresta da base\n",
    "area_base = volume / altura\n",
    "aresta_base = math.sqrt(area_base)\n",
    "\n",
    "print(\"A medida da aresta da base da piscina é:\", aresta_base, \"m\")"
   ]
  },
  {
   "cell_type": "code",
   "execution_count": 4,
   "metadata": {},
   "outputs": [
    {
     "name": "stdout",
     "output_type": "stream",
     "text": [
      "O volume do prisma quadrangular regular é: 2592.0 cm³\n"
     ]
    }
   ],
   "source": [
    "# Questão 5: Volume de um Prisma Quadrangular Regular\n",
    "\n",
    "# Dimensão do prisma\n",
    "diagonal_base = 6 * math.sqrt(2)\n",
    "\n",
    "# Cálculo do lado da base\n",
    "lado_base = diagonal_base / math.sqrt(2)\n",
    "area_base = lado_base ** 2\n",
    "\n",
    "# Supondo que a altura seja o dobro da área da base\n",
    "altura = 2 * area_base\n",
    "volume = area_base * altura\n",
    "\n",
    "print(\"O volume do prisma quadrangular regular é:\", volume, \"cm³\")"
   ]
  },
  {
   "cell_type": "code",
   "execution_count": 6,
   "metadata": {},
   "outputs": [
    {
     "name": "stdout",
     "output_type": "stream",
     "text": [
      "O volume do prisma triangular regular é: 866.0254037844386 cm³\n"
     ]
    }
   ],
   "source": [
    "# Questão 6: Volume de um Prisma Triangular Regular\n",
    "\n",
    "# Dimensões do prisma\n",
    "perimetro_base = 30\n",
    "altura_prisma = 2 * (perimetro_base / 3)\n",
    "\n",
    "# Calcula a área da base (triângulo equilátero)\n",
    "lado_base = perimetro_base / 3\n",
    "area_base = (lado_base ** 2 * math.sqrt(3)) / 4\n",
    "volume = area_base * altura_prisma\n",
    "\n",
    "print(\"O volume do prisma triangular regular é:\", volume, \"cm³\")"
   ]
  },
  {
   "cell_type": "code",
   "execution_count": 7,
   "metadata": {},
   "outputs": [
    {
     "name": "stdout",
     "output_type": "stream",
     "text": [
      "Área lateral: 216 cm²\n",
      "Área total: 299.1384387633061 cm²\n",
      "Volume: 374.1229744348775 cm³\n"
     ]
    }
   ],
   "source": [
    "# Questão 7: Área Lateral, Área Total e Volume de um Prisma Hexagonal Regular\n",
    "\n",
    "# Dimensões do prisma\n",
    "lado_base = 4\n",
    "altura_prisma = 9\n",
    "\n",
    "# Cálculo da área da base, área lateral e volume\n",
    "apotema = lado_base * math.sqrt(3) / 2\n",
    "area_base = (6 * lado_base * apotema) / 2\n",
    "area_lateral = 6 * lado_base * altura_prisma\n",
    "area_total = 2 * area_base + area_lateral\n",
    "volume = area_base * altura_prisma\n",
    "\n",
    "print(\"Área lateral:\", area_lateral, \"cm²\")\n",
    "print(\"Área total:\", area_total, \"cm²\")\n",
    "print(\"Volume:\", volume, \"cm³\")"
   ]
  },
  {
   "cell_type": "code",
   "execution_count": 8,
   "metadata": {},
   "outputs": [
    {
     "name": "stdout",
     "output_type": "stream",
     "text": [
      "Área lateral: 54 cm²\n",
      "Área total: 94 cm²\n",
      "Diagonal: 7.0710678118654755 cm\n"
     ]
    }
   ],
   "source": [
    "# Questão 8: Área Lateral, Área Total e Diagonal de um Paralelepípedo\n",
    "\n",
    "# Dimensões do paralelepípedo\n",
    "comprimento = 5\n",
    "largura = 4\n",
    "altura = 3\n",
    "\n",
    "# Cálculo da área lateral, área total e diagonal\n",
    "area_lateral = 2 * (comprimento * altura + largura * altura)\n",
    "area_total = 2 * (comprimento * largura + comprimento * altura + largura * altura)\n",
    "diagonal = math.sqrt(comprimento ** 2 + largura ** 2 + altura ** 2)\n",
    "\n",
    "print(\"Área lateral:\", area_lateral, \"cm²\")\n",
    "print(\"Área total:\", area_total, \"cm²\")\n",
    "print(\"Diagonal:\", diagonal, \"cm\")"
   ]
  }
 ],
 "metadata": {
  "kernelspec": {
   "display_name": "Python 3",
   "language": "python",
   "name": "python3"
  },
  "language_info": {
   "codemirror_mode": {
    "name": "ipython",
    "version": 3
   },
   "file_extension": ".py",
   "mimetype": "text/x-python",
   "name": "python",
   "nbconvert_exporter": "python",
   "pygments_lexer": "ipython3",
   "version": "3.11.2"
  }
 },
 "nbformat": 4,
 "nbformat_minor": 2
}
